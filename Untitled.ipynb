{
 "cells": [
  {
   "cell_type": "code",
   "execution_count": 12,
   "metadata": {},
   "outputs": [
    {
     "name": "stdout",
     "output_type": "stream",
     "text": [
      "Number of Nodes: 3213\n",
      "Number of Edges: 57832\n",
      "Max degree:117\n",
      "Node id(s) with highest degree: 916,1603,2063,2117,2348,"
     ]
    }
   ],
   "source": [
    "import sys\n",
    "import snap\n",
    "FIn = snap.TFIn(\"/home/annie/chintu/facebook.elist\")\n",
    "Fb_graph = snap.TNGraph.Load(FIn)\n",
    "\n",
    "no_of_nodes = snap.CntNonZNodes(Fb_graph)\n",
    "print(\"Number of Nodes: \"+str(no_of_nodes))\n",
    "no_of_edges = snap.CntUniqUndirEdges(Fb_graph)\n",
    "print(\"Number of Edges: \"+str(no_of_edges))\n",
    "max_degree=-1\n",
    "degdis_y=[]\n",
    "degdis_x=[]\n",
    "for i in range(1,no_of_nodes-1):\n",
    "    degree=snap.CntDegNodes(Fb_graph, i)\n",
    "    max_degree=max(degree,max_degree)\n",
    "    degdis_x.append(i)\n",
    "    degdis_y.append(degree)\n",
    "    \n",
    "# \tprint(\"Number of nodes with degree=\"+str(i)+\": \"+str(degree))\n",
    "    \n",
    "\n",
    "print(\"Max degree:\"+str(max_degree))\n",
    "print(\"Node id(s) with highest degree:\",end=\" \")\n",
    "for NI in Fb_graph.Nodes():\n",
    "\tif(NI.GetInDeg()==max_degree):\n",
    "\t\tprint(NI.GetId(),end=\",\")"
   ]
  },
  {
   "cell_type": "code",
   "execution_count": 22,
   "metadata": {},
   "outputs": [
    {
     "data": {
      "image/png": "[encoded data removed]",
      "text/plain": [
       "<Figure size 432x288 with 1 Axes>"
      ]
     },
     "metadata": {
      "needs_background": "light"
     },
     "output_type": "display_data"
    }
   ],
   "source": [
    "from matplotlib import pyplot as plt \n",
    "plt.plot(degdis_x,degdis_y,color=\"black\")\n",
    "plt.xlabel('Degree')  \n",
    "plt.ylabel('No of Nodes')  \n",
    "  \n",
    "# displaying the title \n",
    "plt.title(\"Degree Distribution\")\n",
    "plt.show()\n",
    "# plt.savefig(\"deg_dist_\"+\"facebook\"+\".png\")\n",
    "\n"
   ]
  },
  {
   "cell_type": "code",
   "execution_count": null,
   "metadata": {},
   "outputs": [],
   "source": []
  }
 ],
 "metadata": {
  "kernelspec": {
   "display_name": "Python 3",
   "language": "python",
   "name": "python3"
  },
  "language_info": {
   "codemirror_mode": {
    "name": "ipython",
    "version": 3
   },
   "file_extension": ".py",
   "mimetype": "text/x-python",
   "name": "python",
   "nbconvert_exporter": "python",
   "pygments_lexer": "ipython3",
   "version": "3.6.9"
  }
 },
 "nbformat": 4,
 "nbformat_minor": 4
}
