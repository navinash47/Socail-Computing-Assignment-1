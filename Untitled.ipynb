{
 "cells": [
  {
   "cell_type": "code",
   "execution_count": 5,
   "metadata": {},
   "outputs": [
    {
     "name": "stdout",
     "output_type": "stream",
     "text": [
      "Number of Nodes: 3213\n",
      "Number of Edges: 57832\n"
     ]
    }
   ],
   "source": [
    "import sys\n",
    "import snap\n",
    "FIn = snap.TFIn(\"facebook.elist\")\n",
    "Fb_graph = snap.TNGraph.Load(FIn)"
   ]
  },
  {
   "cell_type": "markdown",
   "metadata": {},
   "source": [
    "# 1 and 2 c(partial)"
   ]
  },
  {
   "cell_type": "code",
   "execution_count": null,
   "metadata": {},
   "outputs": [],
   "source": [
    "no_of_nodes = snap.CntNonZNodes(Fb_graph)\n",
    "print(\"Number of Nodes: \"+str(no_of_nodes))\n",
    "no_of_edges = snap.CntUniqUndirEdges(Fb_graph)\n",
    "print(\"Number of Edges: \"+str(no_of_edges))\n",
    "max_degree=-1\n",
    "degdis_y=[]\n",
    "degdis_x=[]\n",
    "for i in range(1,no_of_nodes-1):\n",
    "    degree=snap.CntDegNodes(Fb_graph, i)\n",
    "    max_degree=max(degree,max_degree)\n",
    "    degdis_x.append(i)\n",
    "    degdis_y.append(degree)"
   ]
  },
  {
   "cell_type": "markdown",
   "metadata": {},
   "source": [
    "# 2 b"
   ]
  },
  {
   "cell_type": "code",
   "execution_count": 6,
   "metadata": {},
   "outputs": [
    {
     "name": "stdout",
     "output_type": "stream",
     "text": [
      "Max degree:117\n",
      "Node id(s) with highest degree: 916,1603,2063,2117,2348,"
     ]
    }
   ],
   "source": [
    "print(\"Max degree:\"+str(max_degree))\n",
    "print(\"Node id(s) with highest degree:\",end=\" \")\n",
    "for NI in Fb_graph.Nodes():\n",
    "\tif(NI.GetInDeg()==max_degree):\n",
    "\t\tprint(NI.GetId(),end=\",\")"
   ]
  },
  {
   "cell_type": "markdown",
   "metadata": {},
   "source": [
    "# 2 c plotting"
   ]
  },
  {
   "cell_type": "code",
   "execution_count": 9,
   "metadata": {},
   "outputs": [
    {
     "data": {
      "image/png": "[encoded data removed]",
      "text/plain": [
       "<Figure size 432x288 with 1 Axes>"
      ]
     },
     "metadata": {
      "needs_background": "light"
     },
     "output_type": "display_data"
    }
   ],
   "source": [
    "from matplotlib import pyplot as plt \n",
    "plt.plot(degdis_x,degdis_y,color=\"black\")\n",
    "plt.xlabel('Degree')  \n",
    "plt.ylabel('No of Nodes')  \n",
    "  \n",
    "# displaying the title \n",
    "plt.title(\"Degree Distribution\")\n",
    "plt.show()\n",
    "# plt.savefig(\"deg_dist_\"+\"facebook\"+\".png\")\n",
    "\n"
   ]
  },
  {
   "cell_type": "markdown",
   "metadata": {},
   "source": [
    "# 3a"
   ]
  },
  {
   "cell_type": "code",
   "execution_count": 23,
   "metadata": {},
   "outputs": [
    {
     "name": "stdout",
     "output_type": "stream",
     "text": [
      "Approximate full diameter by sampling 10 nodes: 14\n",
      "Approximate full diameter by sampling 100 nodes: 16\n",
      "Approximate full diameter by sampling 1000 nodes: 17\n",
      "Approximate full diameter (mean and variance): 15.666666666666666,1.5555555555555556\n"
     ]
    }
   ],
   "source": [
    "full_diam_list=[]\n",
    "for i in range(1,4):\n",
    "    no_nodes=10**i\n",
    "    full_diam = snap.GetBfsFullDiam(Fb_graph, no_nodes, False)\n",
    "    full_diam_list.append(full_diam)\n",
    "    print(\"Approximate full diameter by sampling \"+str(no_nodes)+ \" nodes: \"+str(full_diam))\n",
    "    \n",
    "mean = sum(full_diam_list) / len(full_diam_list) \n",
    "res = sum((i - mean) ** 2 for i in full_diam_list) / len(full_diam_list) \n",
    "print(\"Approximate full diameter (mean and variance): \"+str(mean)+\",\"+str(res))"
   ]
  },
  {
   "cell_type": "code",
   "execution_count": null,
   "metadata": {},
   "outputs": [],
   "source": [
    "eff_diam_list=[]\n",
    "for i in range(1,4):\n",
    "    no_nodes=10**i\n",
    "    full_diam = snap.GetBfsFullDiam(Fb_graph, no_nodes, False)\n",
    "    full_diam_list.append(full_diam)\n",
    "    print(\"Approximate full diameter by sampling \"+str(no_nodes)+ \" nodes: \"+str(full_diam))\n",
    "    \n",
    "mean = sum(full_diam_list) / len(full_diam_list) \n",
    "res = sum((i - mean) ** 2 for i in full_diam_list) / len(full_diam_list) \n",
    "print(\"Approximate full diameter (mean and variance): \"+str(mean)+\",\"+str(res))"
   ]
  }
 ],
 "metadata": {
  "kernelspec": {
   "display_name": "Python 3",
   "language": "python",
   "name": "python3"
  },
  "language_info": {
   "codemirror_mode": {
    "name": "ipython",
    "version": 3
   },
   "file_extension": ".py",
   "mimetype": "text/x-python",
   "name": "python",
   "nbconvert_exporter": "python",
   "pygments_lexer": "ipython3",
   "version": "3.7.6"
  }
 },
 "nbformat": 4,
 "nbformat_minor": 4
}
