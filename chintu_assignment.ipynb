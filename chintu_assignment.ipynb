{
 "cells": [
  {
   "cell_type": "code",
   "execution_count": 1,
   "metadata": {},
   "outputs": [],
   "source": [
    "import snap"
   ]
  },
  {
   "cell_type": "code",
   "execution_count": 2,
   "metadata": {},
   "outputs": [],
   "source": [
    "Rnd = snap.TRnd(42)\n",
    "Rnd.Randomize()"
   ]
  },
  {
   "cell_type": "code",
   "execution_count": 3,
   "metadata": {},
   "outputs": [
    {
     "data": {
      "text/plain": [
       "<snap.PNGraph; proxy of <Swig Object of type 'PNGraph *' at 0x7f21c8395390> >"
      ]
     },
     "execution_count": 3,
     "metadata": {},
     "output_type": "execute_result"
    }
   ],
   "source": [
    "G6 = snap.GenForestFire(1000, 0.35, 0.35)\n",
    "G6"
   ]
  },
  {
   "cell_type": "code",
   "execution_count": 4,
   "metadata": {},
   "outputs": [],
   "source": [
    "fb_graph=[]\n",
    "with open(\"/home/annie/Downloads/avinash/facebook_combined.txt\",'r') as f:\n",
    "    \n",
    "    for x in f:\n",
    "        first_node=[]\n",
    "        \n",
    "        temp = x.strip(\"\\n\")\n",
    "        temp=temp.split(\" \")\n",
    "        \n",
    "        first_node.append(int(temp[0]))\n",
    "        first_node.append(int(temp[1]))\n",
    "        \n",
    "        if first_node[0]%5!=0 and first_node[1]%5!=0:\n",
    "            fb_graph.append(first_node)"
   ]
  },
  {
   "cell_type": "code",
   "execution_count": 9,
   "metadata": {},
   "outputs": [],
   "source": [
    "az_graph=[]\n",
    "with open(\"/home/annie/Downloads/avinash/com-amazon.ungraph.txt\",'r') as f:\n",
    "    line = f.readline()\n",
    "    line = f.readline()\n",
    "    line = f.readline()\n",
    "    line = f.readline()\n",
    "    for x in f:\n",
    "        first_node=[]\n",
    "        \n",
    "        temp = x.strip(\"\\n\")\n",
    "        temp=temp.split(\"\\t\")\n",
    "        \n",
    "        first_node.append(int(temp[0]))\n",
    "        first_node.append(int(temp[1]))\n",
    "        \n",
    "        if first_node[0]%4==0 and first_node[1]%4==0:\n",
    "            az_graph.append(first_node)"
   ]
  },
  {
   "cell_type": "code",
   "execution_count": 26,
   "metadata": {},
   "outputs": [],
   "source": [
    "import numpy as np\n",
    "unique_nodes_fb = np.unique(fb_graph)\n",
    "unique_nodes_az = np.unique(az_graph)"
   ]
  },
  {
   "cell_type": "code",
   "execution_count": 17,
   "metadata": {},
   "outputs": [
    {
     "data": {
      "text/plain": [
       "array([   1,    2,    3, ..., 4036, 4037, 4038])"
      ]
     },
     "execution_count": 17,
     "metadata": {},
     "output_type": "execute_result"
    }
   ],
   "source": [
    "unique_nodes"
   ]
  },
  {
   "cell_type": "code",
   "execution_count": 34,
   "metadata": {},
   "outputs": [],
   "source": [
    "G1 = snap.TNGraph.New()\n",
    "for node in unique_nodes_fb:\n",
    "    G1.AddNode(int(node))\n",
    "for edge in fb_graph:\n",
    "    G1.AddEdge(edge[0],edge[1])\n",
    "    G1.AddEdge(edge[1],edge[0])\n"
   ]
  },
  {
   "cell_type": "code",
   "execution_count": 35,
   "metadata": {},
   "outputs": [],
   "source": [
    "G2 = snap.TNGraph.New()\n",
    "for node in unique_nodes_az:\n",
    "    G2.AddNode(int(node))\n",
    "for edge in az_graph:\n",
    "    G2.AddEdge(edge[0],edge[1])\n",
    "    G2.AddEdge(edge[1],edge[0])"
   ]
  },
  {
   "cell_type": "code",
   "execution_count": 39,
   "metadata": {},
   "outputs": [],
   "source": [
    "FbOut = snap.TFOut(\"facebook.elist\")\n",
    "G1.Save(FbOut)\n",
    "FbOut.Flush()"
   ]
  },
  {
   "cell_type": "code",
   "execution_count": 40,
   "metadata": {},
   "outputs": [],
   "source": [
    "AzOut = snap.TFOut(\"amazon.elist\")\n",
    "G2.Save(AzOut)\n",
    "AzOut.Flush()"
   ]
  },
  {
   "cell_type": "code",
   "execution_count": null,
   "metadata": {},
   "outputs": [],
   "source": []
  },
  {
   "cell_type": "code",
   "execution_count": null,
   "metadata": {},
   "outputs": [],
   "source": []
  },
  {
   "cell_type": "code",
   "execution_count": null,
   "metadata": {},
   "outputs": [],
   "source": []
  }
 ],
 "metadata": {
  "kernelspec": {
   "display_name": "Python 3",
   "language": "python",
   "name": "python3"
  },
  "language_info": {
   "codemirror_mode": {
    "name": "ipython",
    "version": 3
   },
   "file_extension": ".py",
   "mimetype": "text/x-python",
   "name": "python",
   "nbconvert_exporter": "python",
   "pygments_lexer": "ipython3",
   "version": "3.6.9"
  }
 },
 "nbformat": 4,
 "nbformat_minor": 4
}
